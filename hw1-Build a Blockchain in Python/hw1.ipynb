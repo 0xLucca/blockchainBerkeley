{
 "cells": [
  {
   "cell_type": "markdown",
   "metadata": {},
   "source": [
    "# Build a Blockchain! - Blockchain Design Exercises"
   ]
  },
  {
   "cell_type": "markdown",
   "metadata": {},
   "source": [
    "## HW1 - Build a Blockchain in Python\n",
    "\n",
    "#### Getting Started\n",
    "\n",
    "CS 198-077 Spring 2020 \n",
    "HW1-Build a Blockchain in Python\n",
    "\n",
    "Created by Omkar Shanbhag, Updated by Simon Guo\n",
    "\n",
    "This notebook is meant to be a short introduction to Blockchain implementations, aimed at helping us take the topics we learn about in fundamentals, and seeing how they translate to code. \n",
    "\n",
    "In this notebook we will implement various different aspects of Blockchain technology that we understand including: \n",
    "\n",
    "- The Blockchain Data Structure using OOP \n",
    "- A proof of work simulation \n",
    "- Understanding of the concept of difficulty of finding the next block hash \n",
    "- A simulation of multiple miners with varying computational powers \n",
    "- A bit of data analytics to see if what we've implemented makes sense "
   ]
  },
  {
   "cell_type": "code",
   "execution_count": 2,
   "metadata": {},
   "outputs": [],
   "source": [
    "#Import statements\n",
    "import hashlib as hasher \n",
    "import random as rand\n",
    "import time \n",
    "import datetime as date\n",
    "import ipyparallel as ipp\n",
    "import numpy as np\n",
    "import matplotlib.pyplot as plt"
   ]
  },
  {
   "cell_type": "markdown",
   "metadata": {},
   "source": [
    "# Blockchain Data Structure Design"
   ]
  },
  {
   "cell_type": "markdown",
   "metadata": {},
   "source": [
    "In this section we will define the class \"Block\" and create an init function that creates a new block given some parameters, as well as a function hash_block, that computes the hash of this block based on its class variables. \n",
    "\n",
    "The init function is implemented for you below and creates a block with the following specifications \n",
    "- Index --> the index of the block on the chain (zero indexed)\n",
    "- Timestamp --> time that the block was added on to the chain\n",
    "- data --> The data the block contains (Usually points to root of merkel tree, but we can fill it with whatever for this)\n",
    "- previous_hash --> The hash value of the previous block \n",
    "- hash --> hash of this block computed using the hash_block function\n",
    "- nonce --> the variable value that we change to alter the hash output (Default value = 0, irrelevant in this section)\n",
    "\n",
    "****QUESTION #1: Implement hash_block()****\n",
    "\n",
    "We need to implement the hash_block() which computes the hash value of this block based on how we initialize it. This function takes in no parameters. \n",
    "\n",
    "Desired Functionality:\n",
    "- Concatenate string representations of all the class variables \n",
    "- Computes the SHA256 hash of this concatenation \n",
    "\n",
    "-- HINTS --\n",
    "\n",
    "- use the first import statement!!! \n",
    "- initialize a new hasher\n",
    "- Look into the following words \n",
    "    - utf-8 encoding \n",
    "    - .update() function \n",
    "    - .hexdigest() function\n",
    "    - In order for the test function below to work properly, create the string concatenation in the following order with no spaces or any other characters in between \n",
    "       - index\n",
    "       - timestamp\n",
    "       - data\n",
    "       - previous block hash\n",
    "       - nonce\n",
    "     - If you want to do it another order that incorporates everything thats totally fine, but test function wont work!"
   ]
  },
  {
   "cell_type": "markdown",
   "metadata": {},
   "source": []
  },
  {
   "cell_type": "code",
   "execution_count": 5,
   "metadata": {},
   "outputs": [],
   "source": [
    "class Block:\n",
    "    def __init__(self, index, timestamp, data, previous_hash, nonce=0):\n",
    "        self.index = index\n",
    "        self.timestamp = timestamp\n",
    "        self.data = data\n",
    "        self.nonce = nonce #set to zero as default not applicable in first section \n",
    "        self.previous_hash = previous_hash\n",
    "        self.hash = self.hash_block()\n",
    "\n",
    "    def hash_block(self):\n",
    "        #Your code for QUESTION 1 Here \n",
    "        h = hasher.sha256()\n",
    "        strConcat = str(self.index)+str(self.timestamp)+str(self.data)+str(self.previous_hash)+str(self.nonce)\n",
    "        h.update(strConcat.encode())\n",
    "        return h.hexdigest()"
   ]
  },
  {
   "cell_type": "markdown",
   "metadata": {},
   "source": [
    "**TEST YOUR QUESTION 1 CODE HERE**\n",
    "\n",
    "Run the block of code below"
   ]
  },
  {
   "cell_type": "code",
   "execution_count": 6,
   "metadata": {},
   "outputs": [
    {
     "name": "stdout",
     "output_type": "stream",
     "text": [
      "PASSED!!! Move on to next Question\n"
     ]
    }
   ],
   "source": [
    "def test_question_1(index, time, data, previous_hash):\n",
    "    new_block = Block(index, time, data, previous_hash)\n",
    "    check_string = '2def27922fc1c67254a9cdb0c660b91abf9b135ad38fc13c7c77007448b824a0'\n",
    "    print_statement = \"PASSED!!! Move on to next Question\" if str(new_block.hash) == check_string else \"FAILED!!! Try Again\"\n",
    "    print(print_statement)\n",
    "    \n",
    "time = '2019-10-17 00:37:35.256774'\n",
    "data = 'Machine Learning Blockchain AI'\n",
    "previous_hash = '6ffd1464f68ef4aeb385d399244efa19293ba5c842c464a82c02f8256ef71428'\n",
    "index = 0\n",
    "    \n",
    "test_question_1(index, time, data, previous_hash)"
   ]
  },
  {
   "cell_type": "markdown",
   "metadata": {},
   "source": [
    "**Functions for Building the Chain**\n",
    "\n",
    "Now that we have our class Block completed, lets figure out how to make a chain out of them. For a chain, we need to first have a function that creates a genesis block, which serves as the first block of our chain, and then create the function next_block() which builds a new block on top of a given block.\n",
    "\n",
    "create_genesis_block() has been implemented for you. It creates a block with the following specifications. \n",
    "- index = 0\n",
    "- timestamp = Now (whenever the function is being called) \n",
    "- data = \"Genesis Block\"\n",
    "- previous_hash = \"0\"\n",
    "\n",
    "**QUESTION #2: Implement next_block()**\n",
    "\n",
    "We need to implement the function next_block() which takes in 1 parameter:\n",
    "- Last_block = an instance of class Block that is the block that we're building our next block on top of \n",
    "- nonce = Dont do anything with this right now - just pass it in to the Block that you create using the default \n",
    "\n",
    "We want to implement the function so that it returns a new instance of the class Block with the following specifications\n",
    "- index = index of last_block + 1\n",
    "- timestamp = Now (whenever the function is being called)\n",
    "- data = \"Hey! I'm block {index}\"  (for example block w/ index 5 would have data: \"Hey! I'm block 5\")\n",
    "- previous_hash = hash of last_block"
   ]
  },
  {
   "cell_type": "code",
   "execution_count": 10,
   "metadata": {},
   "outputs": [],
   "source": [
    "#Creates the first block with current time and generic data\n",
    "def create_genesis_block():\n",
    "    # Manually construct a block with\n",
    "    # index zero and arbitrary previous hash\n",
    "    return Block(0, date.datetime.now(), \"Genesis Block\", \"0\")\n",
    "\n",
    "#Function that creates the next block, given the last block on the chain you want to mine on\n",
    "def next_block(last_block, nonce=0):\n",
    "    #Your code for QUESTION 2 here\n",
    "    return Block(last_block.index + 1, date.datetime.now(), \"Hey! I'm block \" + str(last_block.index + 1), last_block.hash)\n",
    "    "
   ]
  },
  {
   "cell_type": "markdown",
   "metadata": {},
   "source": [
    "**TEST YOUR QUESTION 2 CODE HERE**\n",
    "\n",
    "Run the block of code below"
   ]
  },
  {
   "cell_type": "code",
   "execution_count": 11,
   "metadata": {},
   "outputs": [
    {
     "name": "stdout",
     "output_type": "stream",
     "text": [
      "PASSED!!! Move on to next part\n"
     ]
    }
   ],
   "source": [
    "def test_question_2(genesis_block):\n",
    "    block_1 = next_block(genesis_block)\n",
    "    if block_1.index == 1 and block_1.data == \"Hey! I'm block 1\" and block_1.previous_hash == genesis_block.hash and str(type(block_1.timestamp)) == \"<class 'datetime.datetime'>\":\n",
    "        print(\"PASSED!!! Move on to next part\" )\n",
    "    else:\n",
    "        print(\"FAILED!!! Try again :(\")\n",
    "    \n",
    "\n",
    "genesis_block = create_genesis_block()\n",
    "test_question_2(genesis_block)"
   ]
  },
  {
   "cell_type": "markdown",
   "metadata": {},
   "source": [
    "**Spinning up a Chain**\n",
    "\n",
    "Now that we've created the data structure as well as the functions needed to create the chain, lets see how spinning up an actual instance of this would work. \n",
    "\n",
    "Below we initialize three different variables \n",
    "- blockchain - this is a python list which we initialize with one block inside (the genesis block) \n",
    "- previous_block - this points to our genesis block (since it references the first element in blockchain)\n",
    "- num_blocks - this specifies the number of additional blocks we want to add to our chain \n",
    "\n",
    "**QUESTION 3 complete_chain()**\n",
    "\n",
    "We want to complete the implementation of the function complete_chain(). This function takes in three inputs, which correspond to the initializations that we made. It returns nothing, however by the time we are done running it, the list 'blockchain' that we initialized earlier has been turned into an array of length num_blocks + 1 in which each element is an instance of class Block and each element's self.previous_hash == the previous element's self.hash. Therefore we have created our own mini blockchain!! \n",
    "\n",
    "The for loop and the print statements of complete_chain have been implemented for you, you need to add the statements that ***create a new block on top of previous_block, add it to the block chain, and edit previous block so that the for loop can continue correctly*** \n",
    "\n",
    "****HINT **** --> Literally just do all the things listed in the section immediately above in order \n",
    "\n",
    "If it works out, you should get the same number of print statements as num_blocks"
   ]
  },
  {
   "cell_type": "code",
   "execution_count": 16,
   "metadata": {},
   "outputs": [
    {
     "name": "stdout",
     "output_type": "stream",
     "text": [
      "Block #1 has been added to the blockchain!\n",
      "Hash: b4e9e47f225641f775dbf5eb6eeb6b9db6ef4d6c8ebea18233d579466aad5ade\n",
      "\n",
      "Block #2 has been added to the blockchain!\n",
      "Hash: 9852bef11e82da2a8cb5dd1f4fd25c084b349e4be9169c1af737a1b5e1529417\n",
      "\n",
      "Block #3 has been added to the blockchain!\n",
      "Hash: 2a935689147f59de86394b24600fbbf954a68df5a7a3bc6b38d1a2a7ce58427c\n",
      "\n",
      "Block #4 has been added to the blockchain!\n",
      "Hash: 9ef0b8ac577e3af3b0712cf1891f5489e28d36a65abdc1ffeccc06dff62f6fb3\n",
      "\n",
      "Block #5 has been added to the blockchain!\n",
      "Hash: 9350f8134097a8ffe0239006531af184024c1f125a9a7df06e5b6fa8b9b00a6e\n",
      "\n",
      "Block #6 has been added to the blockchain!\n",
      "Hash: 8cbb9f0d5e3266fb6f44448e86f9ec1a30e64b62705c69df4218be7f238311cc\n",
      "\n",
      "Block #7 has been added to the blockchain!\n",
      "Hash: c6c2f54cba8792b47013e4f0a9faf8aa36a685de1244cdb84c628b2e7d2d32ae\n",
      "\n",
      "Block #8 has been added to the blockchain!\n",
      "Hash: 7c07123e637dc946c20c5963f28392d41230da05dcfc35720bff46fa75ae6e53\n",
      "\n",
      "Block #9 has been added to the blockchain!\n",
      "Hash: 611375c7711abfed25a4d8356e01f1999914af2232b4214bca6aa636a89e3362\n",
      "\n",
      "Block #10 has been added to the blockchain!\n",
      "Hash: 22595d9c3efc596314c58a057281e59ae26e58c7e88fb16b1da2eb5c1753f572\n",
      "\n",
      "Block #11 has been added to the blockchain!\n",
      "Hash: aa0ab3a05e5538f0d1bd3bd5bf34d003a33ecb246ad8184a2ba2a8eb3eef7b93\n",
      "\n",
      "Block #12 has been added to the blockchain!\n",
      "Hash: dfdbbc695bc3c4f15ff5a4a3760cc051c0740c99b32ea3a97377cd4cf9a6d7f9\n",
      "\n",
      "Block #13 has been added to the blockchain!\n",
      "Hash: 27048c77513c5df36f82d0c041801636f17d814ab98e0657e0d1a7e5af6accf8\n",
      "\n",
      "Block #14 has been added to the blockchain!\n",
      "Hash: 2c826d4b842ec86b02394190af96eb7767aa95fb684ad8b02e802a74abf241ba\n",
      "\n",
      "Block #15 has been added to the blockchain!\n",
      "Hash: 609eed112aaf894c85c5ebadf5e46d22aa412259a41ceb1d791bf7f0f48fa2a6\n",
      "\n",
      "Block #16 has been added to the blockchain!\n",
      "Hash: b0a3a01c97b4aaf0ec0bbec4aaa6979f227191b4e418f05d479584f36bcac85c\n",
      "\n",
      "Block #17 has been added to the blockchain!\n",
      "Hash: f0604ecb4e2262a9bfb2d1b17705555df8ea97aea6025d68c47a671773c503d7\n",
      "\n",
      "Block #18 has been added to the blockchain!\n",
      "Hash: b634bfb30c49046552df2cd788bac29746bf4a0aaa5ac755259944509d6d2f8d\n",
      "\n",
      "Block #19 has been added to the blockchain!\n",
      "Hash: b6bc2754388513b8d73ebf70a138a55a6ef7c991acf22147be84dfdd4a288409\n",
      "\n",
      "Block #20 has been added to the blockchain!\n",
      "Hash: 22cc6537ffe5c0c61763ba2423b6900eb9d223de6449a70d50da8be8787106b6\n",
      "\n"
     ]
    }
   ],
   "source": [
    "# Create the blockchain and add the genesis block\n",
    "blockchain = [create_genesis_block()]\n",
    "\n",
    "#Create our initial reference to previous block which points to the genesis block\n",
    "previous_block = blockchain[0]\n",
    "\n",
    "# How many blocks should we add to the chain after the genesis block\n",
    "num_blocks = 20\n",
    "\n",
    "def complete_chain(num_blocks, blockchain, previous_block):\n",
    "    # Add blocks to the chain\n",
    "    for i in range(0, num_blocks):\n",
    "        #Your code for QUESTION 3 Here \n",
    "        block_to_add = next_block(previous_block)\n",
    "        blockchain.append(block_to_add)\n",
    "        previous_block = blockchain[i+1]\n",
    "        \n",
    "        #Your code for QUESTION 3 ends Here\n",
    "        # Tell everyone about it!\n",
    "        print(\"Block #{} has been added to the blockchain!\".format(block_to_add.index))\n",
    "        print(\"Hash: {}\\n\".format(block_to_add.hash))\n",
    "\n",
    "complete_chain(num_blocks, blockchain, previous_block)"
   ]
  },
  {
   "cell_type": "markdown",
   "metadata": {},
   "source": [
    "**TEST YOUR QUESTION 3 CODE HERE**\n",
    "\n",
    "Run the block of code below"
   ]
  },
  {
   "cell_type": "code",
   "execution_count": 17,
   "metadata": {},
   "outputs": [
    {
     "name": "stdout",
     "output_type": "stream",
     "text": [
      "PASSED!!! Move on to the next Part\n"
     ]
    }
   ],
   "source": [
    "def test_question_3(blockchain, num_blocks):\n",
    "    correct = True\n",
    "    if len(blockchain) != num_blocks + 1:\n",
    "        correct = False\n",
    "    for i in range(len(blockchain)-1):\n",
    "        if blockchain[i + 1].previous_hash != blockchain[i].hash:\n",
    "            correct = False\n",
    "            break\n",
    "    print_statement = \"PASSED!!! Move on to the next Part\" if correct else \"FAILED!!! Try Again :(\"\n",
    "    print(print_statement)\n",
    "\n",
    "test_question_3(blockchain, num_blocks)"
   ]
  },
  {
   "cell_type": "markdown",
   "metadata": {},
   "source": [
    "# Proof of Work Simulation"
   ]
  },
  {
   "cell_type": "markdown",
   "metadata": {},
   "source": [
    "In this section we will be doing a simulation of the proof-of-work consensus mechanism that the Bitcoin Blockchain (among others) uses. Let us define some of the concepts that we will be dealing with in this section. \n",
    "\n",
    "**The Nonce** --> Randomly generated value that we add to our concatenation of our block to add variance to our hashes\n",
    "\n",
    "**Difficulty** --> Specified by the network (in theory, here it is specified by us). Defines the number of hashes that are valid out of all possible values. Higher difficulty indicates a lower number of valid hashes. \n",
    "\n",
    "**QUESTION 4: generate_nonce(), generate_difficulty_bound(), find_next_block()**\n",
    "\n",
    "**Part 1 - Description** \n",
    "\n",
    "The functions **generate_nonce()** and **generate_difficulty_bound()** have been implemented below for you. The first part of this question involves reading through, them understanding them completely, and writing a quick 1 - 2 line summary of what they are supposed to do and how they are implemented (write it in the space given, 2 cells below).\n",
    "\n",
    "**Part 2 - Implementation**\n",
    "\n",
    "The second part of this question is to complete the implementation of find_next_block(). This function's purpose is to try different blocks with the same data, index etc. but different nonces that satisfy the difficulty metric specified. The difficulty bound has already been generated for you and the first block has been created. You have to complete the implementation so that: \n",
    "- You find a nonce such that the hash of the block is less than the difficulty bound. \n",
    "- All data from new block has to be the same (including the timestamp, for simplicity purposes) and the only thing changing is the nonce \n",
    "- For our learning purposes, increment the hashes_tried parameter appropriately everytime you try a hash so that we can see the number of hashes tried and how this correlates to our difficulty value. \n",
    "\n",
    "**HINTS**\n",
    "- How do you turn a hash string into its hex prepresentation that you can compare???\n",
    "- if your implementation is working, you should notice something interesting about all the hashes of the blocks that you are getting when you run the code cell labeled \"Create Proof of work Blockchain\"**\n",
    "\n",
    "\n",
    "\n",
    "**you can test question 4 in the a few cells below this one, after running all the cells in between**"
   ]
  },
  {
   "cell_type": "code",
   "execution_count": 39,
   "metadata": {},
   "outputs": [],
   "source": [
    "import time\n",
    "\n",
    "def generate_nonce(length=20):\n",
    "    return ''.join([str(rand.randint(0, 9)) for i in range(length)])\n",
    "\n",
    "def generate_difficulty_bound(difficulty=1):\n",
    "    diff_str = \"\"\n",
    "    for i in range(difficulty):\n",
    "        diff_str += '0'\n",
    "    for i in range(64 - difficulty):\n",
    "        diff_str += 'F'\n",
    "    diff_str = \"0x\" + diff_str  # \"0x\" needs to be added at the front to specify that it is a hex representation\n",
    "    return(int(diff_str, 16))  # Specifies that we want to create an integer of base 16 (as opposed to the default base 10)\n",
    "\n",
    "#Given a previous block and a difficulty metric, finds a nonce that results in a lower hash value\n",
    "def find_next_block(last_block, difficulty, nonce_length):\n",
    "    difficulty_bound = generate_difficulty_bound(difficulty)\n",
    "    start = time.process_time() \n",
    "    new_block = next_block(last_block)\n",
    "    hashes_tried = 1 \n",
    "    #Your code for QUESTION 4 Starts here \n",
    "    while(int(new_block.hash, 16) > difficulty_bound):\n",
    "        new_block = Block(last_block.index + 1, new_block.timestamp, new_block.data, new_block.previous_hash, generate_nonce(nonce_length))\n",
    "        hashes_tried+=1\n",
    "    #Your code for QUESTION 4 Ends here \n",
    "    time_taken = time.process_time() - start\n",
    "    return(time_taken, hashes_tried, new_block)"
   ]
  },
  {
   "cell_type": "markdown",
   "metadata": {},
   "source": [
    "**QUESTION 4 Description Section**\n",
    "\n",
    "Describe the following functions: \n",
    "\n",
    "- generate_nonce():      This function generates a random number 20 digits long\n",
    "\n",
    "- generate_difficulty_bound():        This function generates a hexadecimal number 64 digits long, which first numbers are 0 depending on the difficulty and the remaining ones are F. Then,\n",
    "                                    this number is converted to integer format and returned."
   ]
  },
  {
   "cell_type": "markdown",
   "metadata": {},
   "source": [
    "The cell below creates our proof of work blockchain in a similar way that we do in the earlier section. \n",
    "\n",
    "Some initializations:\n",
    "- blockchain_pow: Our new python list that signifies our proof of work blockchain, with the genesis block inside\n",
    "- previous_block: The first block to use as previous block to build upon\n",
    "- num_blocks: number of additional blocks to add to teh chain\n",
    "- difficulty: difficulty of the network \n",
    "- nonce_length: length of the randomly generated nonce"
   ]
  },
  {
   "cell_type": "markdown",
   "metadata": {},
   "source": [
    "### Create Proof of Work Blockchain "
   ]
  },
  {
   "cell_type": "code",
   "execution_count": 40,
   "metadata": {},
   "outputs": [
    {
     "name": "stdout",
     "output_type": "stream",
     "text": [
      "Block #1 has been added to the blockchain!\n",
      "1121 Hashes Tried!\n",
      "Time taken to find block: 0.02545313199999555\n",
      "Hash: 0008b019d06106131ec8c12de8f5086381936da6c3870bd8dac85aa24658f54f\n",
      "\n",
      "Block #2 has been added to the blockchain!\n",
      "959 Hashes Tried!\n",
      "Time taken to find block: 0.019103262000015775\n",
      "Hash: 00017e0208eed7006a36d690ab845eaa37bfe2e3b066ec6bd2fbb4752c467eaa\n",
      "\n",
      "Block #3 has been added to the blockchain!\n",
      "5476 Hashes Tried!\n",
      "Time taken to find block: 0.10001369400001181\n",
      "Hash: 0007c571153d8c5320150285fb5e66b0c4639401f8555a42ea830c165d127865\n",
      "\n",
      "Block #4 has been added to the blockchain!\n",
      "7156 Hashes Tried!\n",
      "Time taken to find block: 0.12264908099999161\n",
      "Hash: 000721b476b871788276a9308f1d890492e68dea70e5da139f527bf850cd22fe\n",
      "\n",
      "Block #5 has been added to the blockchain!\n",
      "1208 Hashes Tried!\n",
      "Time taken to find block: 0.021868417999996836\n",
      "Hash: 000ca9b45af1ea53e3f947d51e7582ddcec295acc30cfe790ce3233b2d15fa9d\n",
      "\n",
      "Block #6 has been added to the blockchain!\n",
      "19128 Hashes Tried!\n",
      "Time taken to find block: 0.3531078880000109\n",
      "Hash: 0003b3c33a37c83c67ed85f8b188c3f54f4be81a611269a2318d58ef304fe1bb\n",
      "\n",
      "Block #7 has been added to the blockchain!\n",
      "870 Hashes Tried!\n",
      "Time taken to find block: 0.025096998999998732\n",
      "Hash: 00037b6c7fdfcf80dc494359cc960f15c055ba5fbfdcd3b2ce085f5d4304b77f\n",
      "\n",
      "Block #8 has been added to the blockchain!\n",
      "10112 Hashes Tried!\n",
      "Time taken to find block: 0.20955730300002529\n",
      "Hash: 0003fc0ea2c48bc91826a5103096bdc774739ae1fe08590b7936aa13ed2cd220\n",
      "\n",
      "Block #9 has been added to the blockchain!\n",
      "857 Hashes Tried!\n",
      "Time taken to find block: 0.01566160800001626\n",
      "Hash: 000a6eee9fb3860b9bea8afd25d4a9aff85df338c513d8afc9d27f162eb20dbc\n",
      "\n",
      "Block #10 has been added to the blockchain!\n",
      "634 Hashes Tried!\n",
      "Time taken to find block: 0.01187962800000264\n",
      "Hash: 0002d0b4b532594a839fd8a04bbb3ba57536c81a89b8503419cf8de54459e15f\n",
      "\n",
      "Block #11 has been added to the blockchain!\n",
      "672 Hashes Tried!\n",
      "Time taken to find block: 0.012816897000021754\n",
      "Hash: 000f05b3c9913a2dbfd36ecf76d4145f5b1e50fd1dca6af4be9cd9b95a73fcee\n",
      "\n",
      "Block #12 has been added to the blockchain!\n",
      "6748 Hashes Tried!\n",
      "Time taken to find block: 0.14842796900001076\n",
      "Hash: 0007f1de2562e99972aa78898d77ecd1e2d336665918e31827030d5cfa4b746a\n",
      "\n",
      "Block #13 has been added to the blockchain!\n",
      "3101 Hashes Tried!\n",
      "Time taken to find block: 0.06508267200001683\n",
      "Hash: 0002e8d7b3ca2776d6659dcd2231ef5682b7a55a8a32119dadf23445f1403134\n",
      "\n",
      "Block #14 has been added to the blockchain!\n",
      "4500 Hashes Tried!\n",
      "Time taken to find block: 0.0792989660000103\n",
      "Hash: 0000afea3385da287080b3b161051fee1ea61175030f28ec08d11e5700e7ed4a\n",
      "\n",
      "Block #15 has been added to the blockchain!\n",
      "1732 Hashes Tried!\n",
      "Time taken to find block: 0.030089421000013772\n",
      "Hash: 000573c300246c24c52a25c3cd6e931ccbf2f0061404c1ca2a146042748453bf\n",
      "\n",
      "Block #16 has been added to the blockchain!\n",
      "739 Hashes Tried!\n",
      "Time taken to find block: 0.012593590000022914\n",
      "Hash: 000d6a5198fb15630ea2eac56b1191826d5f646a896ad8aed3943ebaf669dce0\n",
      "\n",
      "Block #17 has been added to the blockchain!\n",
      "357 Hashes Tried!\n",
      "Time taken to find block: 0.006525081999996019\n",
      "Hash: 0006a2860d65c2be5d13198916fb9f243bd859f1bfb1ebc0c8c8a97c422ba6cf\n",
      "\n",
      "Block #18 has been added to the blockchain!\n",
      "984 Hashes Tried!\n",
      "Time taken to find block: 0.01662540399999557\n",
      "Hash: 0008c4c56ad25cc96d653f471d8faa1660afc2f82eab7204c5f1e5edb34f73b9\n",
      "\n",
      "Block #19 has been added to the blockchain!\n",
      "659 Hashes Tried!\n",
      "Time taken to find block: 0.011480994000010014\n",
      "Hash: 000fd925ac21d8e8225862b646afe32693c1ac7c9c72afa2d79edadbe3cca2ba\n",
      "\n",
      "Block #20 has been added to the blockchain!\n",
      "2992 Hashes Tried!\n",
      "Time taken to find block: 0.05120397100000673\n",
      "Hash: 000aab95e775f5250d76af1300551deed7b8894507770d30ac53003ccd1514b6\n",
      "\n"
     ]
    }
   ],
   "source": [
    "# Create the blockchain and add the genesis block\n",
    "blockchain_pow = [create_genesis_block()]\n",
    "\n",
    "#Create our initial reference to previous block which points to the genesis block\n",
    "previous_block = blockchain_pow[0]\n",
    "\n",
    "# How many blocks should we add to the chain after genesis block\n",
    "num_blocks = 20\n",
    "\n",
    "#magnitude of difficulty of hash - number of zeroes that must be in the beginning of the hash\n",
    "difficulty = 3\n",
    "\n",
    "#length of nonce that will be generated and added\n",
    "nonce_length = 20\n",
    "\n",
    "# Add blocks to the chain based on difficulty with nonces of length nonce_length\n",
    "def create_pow_blockchain(num_blocks, difficulty, blockchain_pow, previous_block, nonce_length, print_data=1):\n",
    "    hash_array = []\n",
    "    time_array = []\n",
    "    for i in range(0, num_blocks):\n",
    "        time_taken, hashes_tried, block_to_add = find_next_block(previous_block, difficulty, nonce_length)\n",
    "        blockchain_pow.append(block_to_add)\n",
    "        previous_block = block_to_add\n",
    "        hash_array.append(hashes_tried)\n",
    "        time_array.append(time_taken)\n",
    "        # Tell everyone about it!\n",
    "        if print_data:\n",
    "            print(\"Block #{} has been added to the blockchain!\".format(block_to_add.index))\n",
    "            print(\"{} Hashes Tried!\".format(hashes_tried))\n",
    "            print(\"Time taken to find block: {}\".format(time_taken))\n",
    "            print(\"Hash: {}\\n\".format(block_to_add.hash))\n",
    "    return(hash_array, time_array)\n",
    "\n",
    "hash_array, time_array = create_pow_blockchain(num_blocks, difficulty, blockchain_pow, previous_block, nonce_length)"
   ]
  },
  {
   "cell_type": "markdown",
   "metadata": {},
   "source": [
    "**TEST YOUR QUESTION 4 CODE HERE**\n",
    "\n",
    "Run the block of code below"
   ]
  },
  {
   "cell_type": "code",
   "execution_count": 41,
   "metadata": {},
   "outputs": [
    {
     "name": "stdout",
     "output_type": "stream",
     "text": [
      "PASSED!!! Move on to the next Part\n"
     ]
    }
   ],
   "source": [
    "def test_question_4(blockchain_pow, num_blocks):\n",
    "    correct = True\n",
    "    bound = generate_difficulty_bound(difficulty)\n",
    "    if len(blockchain_pow) != num_blocks + 1:\n",
    "        correct = False\n",
    "    for i in range(len(blockchain_pow) - 1):\n",
    "        if blockchain_pow[i + 1].previous_hash != blockchain_pow[i].hash:\n",
    "            correct = False\n",
    "            break\n",
    "        if int(blockchain_pow[i + 1].hash, 16) > bound:\n",
    "            correct = False\n",
    "            break\n",
    "    print_statement = \"PASSED!!! Move on to the next Part\" if correct else \"FAILED!!! Try Again :(\"\n",
    "    print(print_statement)\n",
    "            \n",
    "test_question_4(blockchain_pow, num_blocks)"
   ]
  },
  {
   "cell_type": "markdown",
   "metadata": {},
   "source": [
    "Once you have passed the above test case, you can do things like play around with the difficulties and nonce lengths and seeing that happens "
   ]
  },
  {
   "cell_type": "markdown",
   "metadata": {},
   "source": [
    "# Note: The sections below are optional but super cool!"
   ]
  },
  {
   "cell_type": "markdown",
   "metadata": {},
   "source": [
    "# Distributed Network + Compute Power Simulation"
   ]
  },
  {
   "cell_type": "markdown",
   "metadata": {},
   "source": [
    "In this section, instead of simulating a single node that carries out all the proof of work calculations, we will create a bunch of different nodes that will all compete to find different blocks. These nodes will all have different compute powers that we will be able to specify. Below we will define the MinerNodeNaive class which has an init function to create an instance, as well as a try_hash function that allows it to try a hash and see if it works. "
   ]
  },
  {
   "cell_type": "code",
   "execution_count": 43,
   "metadata": {},
   "outputs": [],
   "source": [
    "#Naive miner class that races with other miners to see who can get a certain number of blocks first \n",
    "class MinerNodeNaive: \n",
    "    def __init__(self, name, compute):\n",
    "        self.name = name \n",
    "        self.compute = compute\n",
    "    \n",
    "    def try_hash(self, diff_value, chain):\n",
    "        last_block = chain[-1]\n",
    "        difficulty = generate_difficulty_bound(diff_value)\n",
    "        date_now = date.datetime.now()\n",
    "        this_index = last_block.index + 1\n",
    "        this_timestamp = date_now\n",
    "        this_data = \"Hey! I'm block \" + str(this_index)\n",
    "        this_hash = last_block.hash\n",
    "        new_block = Block(this_index, this_timestamp, this_data, this_hash)\n",
    "        if int(new_block.hash, 16) < difficulty:\n",
    "            chain.append(new_block)\n",
    "            # Tell everyone about it!\n",
    "            print(\"Block #{} has been added to the blockchain!\".format(new_block.index))\n",
    "            print(\"Block found by: {}\".format(self.name))\n",
    "            print(\"Hash: {}\\n\".format(new_block.hash))\n",
    "        "
   ]
  },
  {
   "cell_type": "markdown",
   "metadata": {},
   "source": [
    "**Question #5: Describe the Following Cells**\n",
    "\n",
    "In the next 4 cells I try to simulate a bunch of different miners with different compute powers. However this isn't completely indicative of how a real system works, and is limited by what I had to work with. Read through the code, and run all of the cells and explain what is happening in a paragrpah. Also explain how this is different from real world vanilla proof of work systems and how this simulation isn't completely accurate of what's actually happening while nodes race to find the next block. There is a cell at the bottom where you can enter your description.  "
   ]
  },
  {
   "cell_type": "code",
   "execution_count": 44,
   "metadata": {},
   "outputs": [],
   "source": [
    "#Initialize multiple miners on the network \n",
    "berkeley_Miner = MinerNodeNaive(\"Berkeley Miner\", 10)\n",
    "stanford_Miner = MinerNodeNaive(\"Stanford Miner\", 5)\n",
    "MIT_Miner = MinerNodeNaive(\"MIT Miner\", 2)\n",
    "UCLA_Miner = MinerNodeNaive(\"UCLA Miner\", 1)\n",
    "\n",
    "miner_array = [berkeley_Miner, stanford_Miner, MIT_Miner, UCLA_Miner]"
   ]
  },
  {
   "cell_type": "code",
   "execution_count": 45,
   "metadata": {},
   "outputs": [],
   "source": [
    "def create_compute_simulation(miner_array):\n",
    "    compute_array = []\n",
    "    for miner in miner_array:\n",
    "        for i in range(miner.compute):\n",
    "            compute_array.append(miner.name)\n",
    "    return(compute_array)\n",
    "\n",
    "compute_simulation_array = create_compute_simulation(miner_array)\n",
    "rand.shuffle(compute_simulation_array)"
   ]
  },
  {
   "cell_type": "code",
   "execution_count": 46,
   "metadata": {},
   "outputs": [],
   "source": [
    "chain_length = 20\n",
    "blockchain_distributed = [create_genesis_block()]\n",
    "genesis_block_dist = blockchain_distributed[0]\n",
    "chain_difficulty = [rand.randint(2,4) for i in range(chain_length)]"
   ]
  },
  {
   "cell_type": "code",
   "execution_count": 47,
   "metadata": {},
   "outputs": [
    {
     "name": "stdout",
     "output_type": "stream",
     "text": [
      "Block #1 has been added to the blockchain!\n",
      "Block found by: Berkeley Miner\n",
      "Hash: 0000b11597444bdd337eb31deaea424c25921d9dcb66d266d9c77f7f61a17774\n",
      "\n",
      "Block #2 has been added to the blockchain!\n",
      "Block found by: Berkeley Miner\n",
      "Hash: 00035a44e9b9a9c1fc0725c4bf3681971d43306d6c04f7cb0e75fae776353523\n",
      "\n",
      "Block #3 has been added to the blockchain!\n",
      "Block found by: Berkeley Miner\n",
      "Hash: 0018f6711c86f01854780e4b3de2193d4b6fbbed1b74dce3bc11eac86f967247\n",
      "\n",
      "Block #4 has been added to the blockchain!\n",
      "Block found by: Berkeley Miner\n",
      "Hash: 0012defdb02aefafea0d9d059ee541ba612c6caaaab3e2e8b60ac0838f016365\n",
      "\n",
      "Block #5 has been added to the blockchain!\n",
      "Block found by: Stanford Miner\n",
      "Hash: 0000ee3b213f320daf71421a91884d2c3f711b968a411d0e2e09866c46a59af6\n",
      "\n",
      "Block #6 has been added to the blockchain!\n",
      "Block found by: Berkeley Miner\n",
      "Hash: 007eacbe087af2397c67e31dabdc10f50c8fcbc492403dddd38e9eaaece445ea\n",
      "\n",
      "Block #7 has been added to the blockchain!\n",
      "Block found by: Berkeley Miner\n",
      "Hash: 0000562ba1595f2e3b9c6fb550f90b63870fb7bc23b6e080e1a795a6bba0b6ad\n",
      "\n",
      "Block #8 has been added to the blockchain!\n",
      "Block found by: MIT Miner\n",
      "Hash: 000bdd32a519931bb36fdb2534b44cb895cdf891593794b104691e602dbcd622\n",
      "\n",
      "Block #9 has been added to the blockchain!\n",
      "Block found by: Berkeley Miner\n",
      "Hash: 00e438c96889cc007d4e63d3ec886a2b3e47342fe76cac39bb1e48c8e20aae6f\n",
      "\n",
      "Block #10 has been added to the blockchain!\n",
      "Block found by: MIT Miner\n",
      "Hash: 0064ea24195990b136e499d09f7a0cdb73b90d5efb220e6ec36c955e15964c40\n",
      "\n",
      "Block #11 has been added to the blockchain!\n",
      "Block found by: Stanford Miner\n",
      "Hash: 00edf33b4690c9b1b552f6713a41c5206b644f435ddb9c3322e40c6e00fffcec\n",
      "\n",
      "Block #12 has been added to the blockchain!\n",
      "Block found by: Berkeley Miner\n",
      "Hash: 008d902eb4cc62f129df940219233be217dd688cea24530406a1184a4f256357\n",
      "\n",
      "Block #13 has been added to the blockchain!\n",
      "Block found by: MIT Miner\n",
      "Hash: 000068746b06b525f9cd895eeb1051ff7990bc17db5253a2d9126aa339436c50\n",
      "\n",
      "Block #14 has been added to the blockchain!\n",
      "Block found by: Berkeley Miner\n",
      "Hash: 007a5ccc660ffe10b331668a28da31add600486cd515bcfac3599d08ee11a45c\n",
      "\n",
      "Block #15 has been added to the blockchain!\n",
      "Block found by: MIT Miner\n",
      "Hash: 00059c02244411ea5e262eea252515cfa0e2424def075c636fce4515df4aa759\n",
      "\n",
      "Block #16 has been added to the blockchain!\n",
      "Block found by: Berkeley Miner\n",
      "Hash: 000bd9bfbb71195cdbe58a58e4e4bcc8bbec08361eca097d4f592f7f9c095174\n",
      "\n",
      "Block #17 has been added to the blockchain!\n",
      "Block found by: Berkeley Miner\n",
      "Hash: 0050be65de0684719d88132fd457e5611e562434e39cae72262743bb6608f592\n",
      "\n",
      "Block #18 has been added to the blockchain!\n",
      "Block found by: Berkeley Miner\n",
      "Hash: 00021ebccc31c51f541ee0d2c4113b8f2d08f96349841a4a3e0d0d855e2721a5\n",
      "\n",
      "Block #19 has been added to the blockchain!\n",
      "Block found by: Berkeley Miner\n",
      "Hash: 00bec204385a0babb24311651d0d9e0322ae692a06dca22c9abd861f7e5a29af\n",
      "\n",
      "Block #20 has been added to the blockchain!\n",
      "Block found by: Stanford Miner\n",
      "Hash: 000aca3848681ae31dfdf3a02f1797b8a9348509997543fe78d87d44b8268388\n",
      "\n"
     ]
    }
   ],
   "source": [
    "for i in range(len(chain_difficulty)): \n",
    "    while len(blockchain_distributed) < i + 2:\n",
    "        next_miner_str = rand.sample(compute_simulation_array, 1)[0] \n",
    "        next_miner = berkeley_Miner #random default (go bears)\n",
    "        for miner in miner_array:\n",
    "            if next_miner_str == miner.name:\n",
    "                next_miner = miner\n",
    "        next_miner.try_hash(chain_difficulty[i], blockchain_distributed)\n",
    "        "
   ]
  },
  {
   "cell_type": "markdown",
   "metadata": {},
   "source": [
    "**Question 5 Description Here**\n",
    "\n",
    "There are 4 miners on the network and each one has different computing power, which in this example means the higher the computing power, the higher will be the probability to be chosen to try a hash. This implementation is different from a real one because the miners are not running in paralell and they're all running in the same hardware."
   ]
  },
  {
   "cell_type": "markdown",
   "metadata": {
    "collapsed": true
   },
   "source": [
    "# Blockchain Data Analytics"
   ]
  },
  {
   "cell_type": "markdown",
   "metadata": {
    "collapsed": true
   },
   "source": [
    "Here we will use data analytics to analyze the number of hashes we need to try before we find a valid hash, given a difficulty level. Look through the code briefly (in depth is not necessary), run all of the cells, and answer the question at the bottom. (difficulty level 3 takes a bit of time so dont be alarmed if this next cell takes a bit of time to run). "
   ]
  },
  {
   "cell_type": "code",
   "execution_count": 58,
   "metadata": {},
   "outputs": [
    {
     "name": "stdout",
     "output_type": "stream",
     "text": [
      "Difficulty Level: 1 complete\n",
      "Difficulty Level: 2 complete\n",
      "Difficulty Level: 3 complete\n",
      "Difficulty Level: 4 complete\n"
     ]
    }
   ],
   "source": [
    "blockchain = [create_genesis_block()]\n",
    "previous_block = blockchain[0]\n",
    "num_blocks = 10\n",
    "\n",
    "#3 different types of difficulty to analyze\n",
    "difficulty_0 = 1\n",
    "difficulty_1 = 2\n",
    "difficulty_2 = 3\n",
    "difficulty_3 = 4\n",
    "\n",
    "nonce_length = 20\n",
    "\n",
    "hash_array_0, time_array_0 = create_pow_blockchain(num_blocks, difficulty_0, blockchain, previous_block, nonce_length, 0)\n",
    "print(\"Difficulty Level: {} complete\".format(difficulty_0))\n",
    "hash_array_1, time_array_1 = create_pow_blockchain(num_blocks, difficulty_1, blockchain, previous_block, nonce_length, 0)\n",
    "print(\"Difficulty Level: {} complete\".format(difficulty_1))\n",
    "hash_array_2, time_array_2 = create_pow_blockchain(num_blocks, difficulty_2, blockchain, previous_block, nonce_length, 0)\n",
    "print(\"Difficulty Level: {} complete\".format(difficulty_2))\n",
    "hash_array_3, time_array_3 = create_pow_blockchain(num_blocks, difficulty_3, blockchain, previous_block, nonce_length, 0)\n",
    "print(\"Difficulty Level: {} complete\".format(difficulty_3))"
   ]
  },
  {
   "cell_type": "code",
   "execution_count": 59,
   "metadata": {},
   "outputs": [
    {
     "name": "stdout",
     "output_type": "stream",
     "text": [
      "[17.1, 342.0, 3490.8, 64663.9]\n",
      "[0.00036763429999382425, 0.008849770899996657, 0.0762674761000028, 1.2111906362000013]\n"
     ]
    }
   ],
   "source": [
    "mean_arr_hash = [np.mean(hash_array_0), np.mean(hash_array_1), np.mean(hash_array_2), np.mean(hash_array_3)]\n",
    "print(mean_arr_hash)\n",
    "mean_arr_time = [np.mean(time_array_0), np.mean(time_array_1), np.mean(time_array_2), np.mean(time_array_3)]\n",
    "print(mean_arr_time)"
   ]
  },
  {
   "cell_type": "code",
   "execution_count": 60,
   "metadata": {},
   "outputs": [
    {
     "data": {
      "image/png": "[encoded data removed]",
      "text/plain": [
       "<Figure size 432x288 with 1 Axes>"
      ]
     },
     "metadata": {
      "needs_background": "light"
     },
     "output_type": "display_data"
    }
   ],
   "source": [
    "plt.plot(mean_arr_hash)\n",
    "plt.show()"
   ]
  },
  {
   "cell_type": "code",
   "execution_count": 61,
   "metadata": {},
   "outputs": [
    {
     "data": {
      "image/png": "[encoded data removed]",
      "text/plain": [
       "<Figure size 432x288 with 1 Axes>"
      ]
     },
     "metadata": {
      "needs_background": "light"
     },
     "output_type": "display_data"
    }
   ],
   "source": [
    "plt.plot(mean_arr_time)\n",
    "plt.show()"
   ]
  },
  {
   "cell_type": "code",
   "execution_count": 62,
   "metadata": {},
   "outputs": [
    {
     "name": "stdout",
     "output_type": "stream",
     "text": [
      "Factor of difficulty increase from 1 to 2: 20.0\n",
      "Factor of difficulty increase from 2 to 3: 10.20701754385965\n",
      "Factor of difficulty increase from 3 to 4: 18.524091898705166\n"
     ]
    }
   ],
   "source": [
    "diff_factor_1 = np.mean(hash_array_1)/np.mean(hash_array_0)\n",
    "diff_factor_2 = np.mean(hash_array_2)/np.mean(hash_array_1)\n",
    "diff_factor_3 = np.mean(hash_array_3)/np.mean(hash_array_2)\n",
    "print(\"Factor of difficulty increase from 1 to 2: {}\".format(diff_factor_1))\n",
    "print(\"Factor of difficulty increase from 2 to 3: {}\".format(diff_factor_2))\n",
    "print(\"Factor of difficulty increase from 3 to 4: {}\".format(diff_factor_3))"
   ]
  },
  {
   "cell_type": "markdown",
   "metadata": {},
   "source": [
    "**Question 6: This one is simple**\n",
    "\n",
    "Look at the factor of difficulty increase from each level to the subsequent level, printed from the cell above.\n",
    "\n",
    "What whould the factor of difficulty increase be for each level: **Your answer Here**\n",
    "For each level the factor of difficulty increases by a power of 16\n",
    "\n",
    "mean_arr_hash = [17.1, 342.0, 3490.8, 64663.9] ≈ [16^1, 16^2, 16^3, 16^4]"
   ]
  },
  {
   "cell_type": "markdown",
   "metadata": {},
   "source": [
    "**Check Off**\n",
    "\n",
    "If you have filled out all the skeleton code and put down your answers for the questions, let any of the instructor know and we will check you off!\n",
    "\n",
    "If you cannot finish it this class, you have until next week's class to finish check off and earn points.\n"
   ]
  }
 ],
 "metadata": {
  "kernelspec": {
   "display_name": "Python 3",
   "language": "python",
   "name": "python3"
  },
  "language_info": {
   "codemirror_mode": {
    "name": "ipython",
    "version": 3
   },
   "file_extension": ".py",
   "mimetype": "text/x-python",
   "name": "python",
   "nbconvert_exporter": "python",
   "pygments_lexer": "ipython3",
   "version": "3.8.10"
  }
 },
 "nbformat": 4,
 "nbformat_minor": 2
}
